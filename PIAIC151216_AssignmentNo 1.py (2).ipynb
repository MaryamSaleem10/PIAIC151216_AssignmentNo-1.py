{
 "cells": [
  {
   "cell_type": "markdown",
   "metadata": {},
   "source": [
    "# 50 Numpy Methods or Attributes"
   ]
  },
  {
   "cell_type": "code",
   "execution_count": 1,
   "metadata": {},
   "outputs": [],
   "source": [
    "import numpy as np"
   ]
  },
  {
   "cell_type": "code",
   "execution_count": 6,
   "metadata": {},
   "outputs": [
    {
     "data": {
      "text/plain": [
       "array([ 7,  9, 11, 13, 15])"
      ]
     },
     "execution_count": 6,
     "metadata": {},
     "output_type": "execute_result"
    }
   ],
   "source": [
    "#1. Adding Two Arrays\n",
    "arr1 = np.array([1,2,3,4,5])\n",
    "arr2 = np.array([6,7,8,9,10])\n",
    "add = arr1+arr2\n",
    "add"
   ]
  },
  {
   "cell_type": "code",
   "execution_count": 7,
   "metadata": {},
   "outputs": [
    {
     "data": {
      "text/plain": [
       "array([5, 5, 5, 5, 5])"
      ]
     },
     "execution_count": 7,
     "metadata": {},
     "output_type": "execute_result"
    }
   ],
   "source": [
    "#2. Subtracting Two Arrays\n",
    "arr1 = np.array([1,2,3,4,5])\n",
    "arr2 = np.array([6,7,8,9,10])\n",
    "Sub = arr2-arr1\n",
    "Sub"
   ]
  },
  {
   "cell_type": "code",
   "execution_count": 9,
   "metadata": {},
   "outputs": [
    {
     "data": {
      "text/plain": [
       "array([ 6, 14, 24, 36, 50])"
      ]
     },
     "execution_count": 9,
     "metadata": {},
     "output_type": "execute_result"
    }
   ],
   "source": [
    "#3. Multiplying Two Arrays\n",
    "arr1 = np.array([1,2,3,4,5])\n",
    "arr2 = np.array([6,7,8,9,10])\n",
    "Mul = arr1*arr2\n",
    "Mul"
   ]
  },
  {
   "cell_type": "code",
   "execution_count": 10,
   "metadata": {},
   "outputs": [
    {
     "data": {
      "text/plain": [
       "array([6.        , 3.5       , 2.66666667, 2.25      , 2.        ])"
      ]
     },
     "execution_count": 10,
     "metadata": {},
     "output_type": "execute_result"
    }
   ],
   "source": [
    "#4. Deviding Two Arrays\n",
    "arr1 = np.array([1,2,3,4,5])\n",
    "arr2 = np.array([6,7,8,9,10])\n",
    "Dev = arr2/arr1\n",
    "Dev"
   ]
  },
  {
   "cell_type": "code",
   "execution_count": 11,
   "metadata": {},
   "outputs": [
    {
     "data": {
      "text/plain": [
       "array([ 1, 13, 43, 57, 88])"
      ]
     },
     "execution_count": 11,
     "metadata": {},
     "output_type": "execute_result"
    }
   ],
   "source": [
    "#5. Sorting Array\n",
    "arr = np.array([43,1,57,88,13])\n",
    "sortedArray = np.sort(arr)\n",
    "sortedArray"
   ]
  },
  {
   "cell_type": "code",
   "execution_count": 12,
   "metadata": {},
   "outputs": [
    {
     "name": "stdout",
     "output_type": "stream",
     "text": [
      "['Pass' 'Fail' 'Pass' 'Fail' 'Fail' 'Pass' 'Pass' 'Pass' 'Pass' 'Fail']\n"
     ]
    }
   ],
   "source": [
    "#6. Where()\n",
    "studentMarks = np.array([73,33,67,11,34,56,88,53,100,5])\n",
    "print(np.where(studentMarks <= 40,\"Fail\",\"Pass\"))"
   ]
  },
  {
   "cell_type": "code",
   "execution_count": 13,
   "metadata": {},
   "outputs": [
    {
     "data": {
      "text/plain": [
       "array([1, 2, 3, 4, 5])"
      ]
     },
     "execution_count": 13,
     "metadata": {},
     "output_type": "execute_result"
    }
   ],
   "source": [
    "#7. Unique()\n",
    "uniqueness = np.unique(arr1)\n",
    "uniqueness"
   ]
  },
  {
   "cell_type": "code",
   "execution_count": 14,
   "metadata": {},
   "outputs": [
    {
     "data": {
      "text/plain": [
       "array([1, 2, 3, 4, 5, 6, 7, 8, 9])"
      ]
     },
     "execution_count": 14,
     "metadata": {},
     "output_type": "execute_result"
    }
   ],
   "source": [
    "#8. arange()\n",
    "newArray = np.arange(1,10)\n",
    "newArray"
   ]
  },
  {
   "cell_type": "code",
   "execution_count": 16,
   "metadata": {},
   "outputs": [
    {
     "name": "stdout",
     "output_type": "stream",
     "text": [
      "[[ 1  2  3]\n",
      " [ 4  5  6]\n",
      " [ 7  8  9]\n",
      " [11 12 13]\n",
      " [14 15 16]\n",
      " [17 18 19]]\n"
     ]
    }
   ],
   "source": [
    "#9. Concatination() through rows\n",
    "TwoDarr1 = np.arange(1,10).reshape(3,3)\n",
    "TwoDarr2 = np.arange(11,20).reshape(3,3)\n",
    "print(np.concatenate((TwoDarr1,TwoDarr2),axis=0))"
   ]
  },
  {
   "cell_type": "code",
   "execution_count": 17,
   "metadata": {},
   "outputs": [
    {
     "name": "stdout",
     "output_type": "stream",
     "text": [
      "[[ 1  2  3 11 12 13]\n",
      " [ 4  5  6 14 15 16]\n",
      " [ 7  8  9 17 18 19]]\n"
     ]
    }
   ],
   "source": [
    "#10. Concatination() through Column\n",
    "TwoDarr1 = np.arange(1,10).reshape(3,3)\n",
    "TwoDarr2 = np.arange(11,20).reshape(3,3)\n",
    "print(np.concatenate((TwoDarr1,TwoDarr2),axis=1))"
   ]
  },
  {
   "cell_type": "code",
   "execution_count": 18,
   "metadata": {},
   "outputs": [
    {
     "name": "stdout",
     "output_type": "stream",
     "text": [
      "[array([1]), array([2, 3]), array([4, 5])]\n"
     ]
    }
   ],
   "source": [
    "#11. Splitting through rows\n",
    "arr = np.array([1,2,3,4,5])\n",
    "print(np.split(arr1,[1,3],axis=0)) "
   ]
  },
  {
   "cell_type": "code",
   "execution_count": 19,
   "metadata": {},
   "outputs": [
    {
     "name": "stdout",
     "output_type": "stream",
     "text": [
      "[array([[ 1],\n",
      "       [11],\n",
      "       [21]]), array([[ 2,  3],\n",
      "       [12, 13],\n",
      "       [22, 23]]), array([[ 4,  5],\n",
      "       [14, 15],\n",
      "       [24, 25]])]\n"
     ]
    }
   ],
   "source": [
    "#12. Splitting through column\n",
    "arr2 = np.array([[1,2,3,4,5],[11,12,13,14,15],[21,22,23,24,25]])\n",
    "print(np.split(arr2,[1,3],axis=1))"
   ]
  },
  {
   "cell_type": "code",
   "execution_count": 22,
   "metadata": {},
   "outputs": [],
   "source": [
    "#13. Dimensions of Array\n",
    "\n",
    "arr0 = np.array(23)          #0 Dimention Array\n",
    "arr1 = np.array([1,2,3,4,5])    #1 Dimention Array \n",
    "arr2 = np.array([[1,2,3],[4,5,6]])          #2 Dimention Array\n",
    "arr3 = np.array([[[1,2,3],[4,5,6]],[[7,8,9],[10,11,12]]])    #3 Dimention Array\n",
    "arrMul = np.array([1,2,3,4,5], ndmin = 5) #we use \"ndmin\" for multiple Dimention Array"
   ]
  },
  {
   "cell_type": "code",
   "execution_count": 23,
   "metadata": {},
   "outputs": [
    {
     "name": "stdout",
     "output_type": "stream",
     "text": [
      "0\n",
      "1\n",
      "2\n",
      "3\n",
      "5\n"
     ]
    }
   ],
   "source": [
    "#14.\"ndim\"\n",
    "print(arr0.ndim)\n",
    "print(arr1.ndim)\n",
    "print(arr2.ndim)\n",
    "print(arr3.ndim)\n",
    "print(arrMul.ndim)"
   ]
  },
  {
   "cell_type": "code",
   "execution_count": 24,
   "metadata": {},
   "outputs": [
    {
     "name": "stdout",
     "output_type": "stream",
     "text": [
      "()\n",
      "(5,)\n",
      "(2, 3)\n",
      "(2, 2, 3)\n",
      "(1, 1, 1, 1, 5)\n"
     ]
    }
   ],
   "source": [
    "#15. \"shape\"\n",
    "print(arr0.shape)\n",
    "print(arr1.shape)\n",
    "print(arr2.shape)\n",
    "print(arr3.shape)\n",
    "print(arrMul.shape)"
   ]
  },
  {
   "cell_type": "code",
   "execution_count": 27,
   "metadata": {},
   "outputs": [
    {
     "name": "stdout",
     "output_type": "stream",
     "text": [
      "[1. 2. 3. 4. 5.]\n"
     ]
    }
   ],
   "source": [
    "#16. changing Type\n",
    "l = (1,2,3,4,5)\n",
    "arr = np.array(l, dtype = float)\n",
    "print(arr)"
   ]
  },
  {
   "cell_type": "code",
   "execution_count": 29,
   "metadata": {},
   "outputs": [
    {
     "name": "stdout",
     "output_type": "stream",
     "text": [
      "[[0. 0. 0. 0.]\n",
      " [0. 0. 0. 0.]\n",
      " [0. 0. 0. 0.]]\n"
     ]
    }
   ],
   "source": [
    "#17. np.zeros()     return array of 0\n",
    "arr = np.zeros((3,4))  # 3 rows and 4 column\n",
    "print(arr)"
   ]
  },
  {
   "cell_type": "code",
   "execution_count": 30,
   "metadata": {},
   "outputs": [
    {
     "name": "stdout",
     "output_type": "stream",
     "text": [
      "[[1. 1. 1. 1.]\n",
      " [1. 1. 1. 1.]\n",
      " [1. 1. 1. 1.]]\n"
     ]
    }
   ],
   "source": [
    "#18. np.ones()      return array of 1\n",
    "arr = np.ones((3,4))  # 3 rows and 4 column\n",
    "print(arr)"
   ]
  },
  {
   "cell_type": "code",
   "execution_count": 31,
   "metadata": {},
   "outputs": [
    {
     "name": "stdout",
     "output_type": "stream",
     "text": [
      "[[1. 1. 1. 1.]\n",
      " [1. 1. 1. 1.]\n",
      " [1. 1. 1. 1.]]\n"
     ]
    }
   ],
   "source": [
    "#19. # np.empty()     return random numbers depending upon the state of the memory.\n",
    "arr = np.empty((3,4))\n",
    "print (arr)"
   ]
  },
  {
   "cell_type": "code",
   "execution_count": 32,
   "metadata": {},
   "outputs": [
    {
     "name": "stdout",
     "output_type": "stream",
     "text": [
      "[[1. 0. 0.]\n",
      " [0. 1. 0.]\n",
      " [0. 0. 1.]]\n"
     ]
    }
   ],
   "source": [
    "#20. np.eye()    returns identity matrix of given dimensions\n",
    "arr = np.eye(3,3)\n",
    "print(arr)"
   ]
  },
  {
   "cell_type": "code",
   "execution_count": 34,
   "metadata": {},
   "outputs": [
    {
     "name": "stdout",
     "output_type": "stream",
     "text": [
      "[[1. 0. 0.]\n",
      " [0. 1. 0.]\n",
      " [0. 0. 1.]]\n"
     ]
    }
   ],
   "source": [
    "#21. Identity\n",
    "arr = np.identity(3)\n",
    "print(arr)"
   ]
  },
  {
   "cell_type": "code",
   "execution_count": 35,
   "metadata": {},
   "outputs": [
    {
     "name": "stdout",
     "output_type": "stream",
     "text": [
      "[ 0  1  2  3  4  5  6  7  8  9 10 11 12 13 14]\n"
     ]
    }
   ],
   "source": [
    "#22. arange()   similar as range function but it returns ndarray\n",
    "arr = np.arange(15)\n",
    "print (arr)\n"
   ]
  },
  {
   "cell_type": "code",
   "execution_count": 36,
   "metadata": {},
   "outputs": [
    {
     "name": "stdout",
     "output_type": "stream",
     "text": [
      "1.18.1\n"
     ]
    }
   ],
   "source": [
    "#23. Checking Numpy Version\n",
    "#Checking NumPy Version\n",
    "print(np.__version__)"
   ]
  },
  {
   "cell_type": "code",
   "execution_count": 37,
   "metadata": {},
   "outputs": [
    {
     "name": "stdout",
     "output_type": "stream",
     "text": [
      "[1 2 3 4 5]\n"
     ]
    }
   ],
   "source": [
    "#24. convertng a list into a one-dimensional NumPy array\n",
    "l = (1,2,3,4,5)\n",
    "arr = np.array(l)\n",
    "print(arr)"
   ]
  },
  {
   "cell_type": "code",
   "execution_count": 39,
   "metadata": {},
   "outputs": [
    {
     "name": "stdout",
     "output_type": "stream",
     "text": [
      "\n",
      "Comparison of two arrays: \n",
      " [ True  True  True  True  True]\n"
     ]
    }
   ],
   "source": [
    "#25. Comparison\n",
    "arr1 = np.array([1,2,3,4,5])\n",
    "arr2 = np.array([6,7,8,9,10])\n",
    "print(\"\\nComparison of two arrays: \\n\",arr1<=arr2)"
   ]
  },
  {
   "cell_type": "code",
   "execution_count": 40,
   "metadata": {},
   "outputs": [
    {
     "data": {
      "text/plain": [
       "array([[ 4.26004429e-01,  1.44185599e-01, -1.38611953e+00,\n",
       "        -3.85563072e-01],\n",
       "       [-1.54555857e-01, -4.22076240e-01,  2.40160256e+00,\n",
       "        -9.53266322e-01],\n",
       "       [ 6.56515206e-01, -5.45754332e-01, -1.49016081e-01,\n",
       "        -1.33171563e+00],\n",
       "       [ 1.94328657e+00,  1.47298023e+00,  4.75942480e-01,\n",
       "        -5.90853698e-01],\n",
       "       [-4.90886865e-03, -3.87601214e-01,  1.03810624e+00,\n",
       "        -3.55983707e-04]])"
      ]
     },
     "execution_count": 40,
     "metadata": {},
     "output_type": "execute_result"
    }
   ],
   "source": [
    "#26. randn()\n",
    "data = np.random.randn(5,4)\n",
    "data"
   ]
  },
  {
   "cell_type": "code",
   "execution_count": 42,
   "metadata": {},
   "outputs": [
    {
     "data": {
      "text/plain": [
       "array([[ 0,  1,  2,  3],\n",
       "       [ 4,  5,  6,  7],\n",
       "       [ 8,  9, 10, 11],\n",
       "       [12, 13, 14, 15],\n",
       "       [16, 17, 18, 19],\n",
       "       [20, 21, 22, 23],\n",
       "       [24, 25, 26, 27],\n",
       "       [28, 29, 30, 31]])"
      ]
     },
     "execution_count": 42,
     "metadata": {},
     "output_type": "execute_result"
    }
   ],
   "source": [
    "#27. reshape()\n",
    "arr = np.arange(32).reshape(8,4)\n",
    "arr"
   ]
  },
  {
   "cell_type": "code",
   "execution_count": 43,
   "metadata": {},
   "outputs": [
    {
     "name": "stdout",
     "output_type": "stream",
     "text": [
      "[ 4 18]\n"
     ]
    }
   ],
   "source": [
    "#28. Fancy Indexing\n",
    "arr = np.arange(32).reshape(8,4)\n",
    "print(arr[[1,4],[0,2]])"
   ]
  },
  {
   "cell_type": "code",
   "execution_count": 44,
   "metadata": {},
   "outputs": [
    {
     "name": "stdout",
     "output_type": "stream",
     "text": [
      "15\n"
     ]
    }
   ],
   "source": [
    "#29. Sum()\n",
    "arr = np.array([1,2,3,4,5])\n",
    "print(np.sum(arr))"
   ]
  },
  {
   "cell_type": "code",
   "execution_count": 45,
   "metadata": {},
   "outputs": [
    {
     "name": "stdout",
     "output_type": "stream",
     "text": [
      "5\n"
     ]
    }
   ],
   "source": [
    "#30. Sum ()  (Boolean Function)      Counts how many values are True\n",
    "chances = np.array([True,False,False,True,True,True,False,True,False,False])\n",
    "print(np.sum(chances))  "
   ]
  },
  {
   "cell_type": "code",
   "execution_count": 46,
   "metadata": {},
   "outputs": [
    {
     "name": "stdout",
     "output_type": "stream",
     "text": [
      "False\n"
     ]
    }
   ],
   "source": [
    "#31. all ()  (Boolean Function)      Checks if one or more values are True\n",
    "chances = np.array([True,False,False,True,True,True,False,True,False,False])\n",
    "print(np.all(chances))  "
   ]
  },
  {
   "cell_type": "code",
   "execution_count": 47,
   "metadata": {},
   "outputs": [
    {
     "name": "stdout",
     "output_type": "stream",
     "text": [
      "True\n"
     ]
    }
   ],
   "source": [
    "#32. any ()  (Boolean Function)      Checks if every value is true\n",
    "chances = np.array([True,False,False,True,True,True,False,True,False,False])\n",
    "print(np.any(chances))  "
   ]
  },
  {
   "cell_type": "code",
   "execution_count": 48,
   "metadata": {},
   "outputs": [
    {
     "name": "stdout",
     "output_type": "stream",
     "text": [
      "20.8\n"
     ]
    }
   ],
   "source": [
    "#33. mean()\n",
    "arr = np.array([1,8,3,77,15])\n",
    "print(np.mean(arr)) "
   ]
  },
  {
   "cell_type": "code",
   "execution_count": 49,
   "metadata": {},
   "outputs": [
    {
     "name": "stdout",
     "output_type": "stream",
     "text": [
      "[  1   9  12  89 104]\n"
     ]
    }
   ],
   "source": [
    "#34. cumsum()\n",
    "arr = np.array([1,8,3,77,15])\n",
    "print(np.cumsum(arr))   "
   ]
  },
  {
   "cell_type": "code",
   "execution_count": 50,
   "metadata": {},
   "outputs": [
    {
     "name": "stdout",
     "output_type": "stream",
     "text": [
      "[    1     8    24  1848 27720]\n"
     ]
    }
   ],
   "source": [
    "#35. cumrod()\n",
    "arr = np.array([1,8,3,77,15])\n",
    "print(np.cumprod(arr))  "
   ]
  },
  {
   "cell_type": "code",
   "execution_count": 51,
   "metadata": {},
   "outputs": [],
   "source": [
    "#36. Save()\n",
    "np.save(\"Saving Numpy array\",arr1)     #Saving a single array in file\n",
    "arr1 = np.array([1,2,3,4,5])"
   ]
  },
  {
   "cell_type": "code",
   "execution_count": 53,
   "metadata": {},
   "outputs": [
    {
     "name": "stdout",
     "output_type": "stream",
     "text": [
      "[1 2 3 4 5]\n"
     ]
    }
   ],
   "source": [
    "#37. load()\n",
    "print(np.load(\"Saving Numpy array.npy\"))      #Loading From File"
   ]
  },
  {
   "cell_type": "code",
   "execution_count": 58,
   "metadata": {},
   "outputs": [],
   "source": [
    "#38. savez()\n",
    "arr1 = np.array([1,2,3,4,5])\n",
    "arr2 = np.array([6,7,8,9,10])\n",
    "arr3 = np.array([11,12,13,14,15])\n",
    "np.savez(\"Saving Multiple Numpy arrays\",arr1,\"\\n\",arr2,\"\\n\",arr3)    #Saving Multiple Arrays\n"
   ]
  },
  {
   "cell_type": "code",
   "execution_count": 59,
   "metadata": {},
   "outputs": [
    {
     "name": "stdout",
     "output_type": "stream",
     "text": [
      "[[ 90  96 102]\n",
      " [216 231 246]\n",
      " [342 366 390]]\n"
     ]
    }
   ],
   "source": [
    "#39. dot()       Dot product of two matrixes\n",
    "x = np.arange(1,10).reshape(3,3)\n",
    "y = np.arange(11,20).reshape(3,3)\n",
    "print(x.dot(y))        "
   ]
  },
  {
   "cell_type": "code",
   "execution_count": 60,
   "metadata": {},
   "outputs": [
    {
     "name": "stdout",
     "output_type": "stream",
     "text": [
      "[1 5 9]\n"
     ]
    }
   ],
   "source": [
    "#40. diag()       Diagonal of matrix\n",
    "x = np.arange(1,10).reshape(3,3)\n",
    "y = np.arange(11,20).reshape(3,3)\n",
    "print(np.diag(x))      "
   ]
  },
  {
   "cell_type": "code",
   "execution_count": 61,
   "metadata": {},
   "outputs": [
    {
     "name": "stdout",
     "output_type": "stream",
     "text": [
      "45\n"
     ]
    }
   ],
   "source": [
    "#41. trace()     #Compute the sum of diagonal\n",
    "x = np.arange(1,10).reshape(3,3)\n",
    "y = np.arange(11,20).reshape(3,3)\n",
    "print(np.trace(y))     #Compute the sum of diagonal"
   ]
  },
  {
   "cell_type": "code",
   "execution_count": 62,
   "metadata": {},
   "outputs": [
    {
     "name": "stdout",
     "output_type": "stream",
     "text": [
      "[[11 14 17]\n",
      " [12 15 18]\n",
      " [13 16 19]]\n"
     ]
    }
   ],
   "source": [
    "#42. transpose()        #Transpose of matrix\n",
    "x = np.arange(1,10).reshape(3,3)\n",
    "y = np.arange(11,20).reshape(3,3)\n",
    "print(np.transpose(y)) "
   ]
  },
  {
   "cell_type": "code",
   "execution_count": 63,
   "metadata": {},
   "outputs": [
    {
     "name": "stdout",
     "output_type": "stream",
     "text": [
      "[[-0.04939059 -1.43354776  1.48206544]\n",
      " [-0.45504751 -0.24000649  1.6561142 ]\n",
      " [ 0.6138586   0.94846805  0.82605195]]\n"
     ]
    }
   ],
   "source": [
    "#43. random.normal()\n",
    "x = np.random.normal(size=(3,3))\n",
    "print(x)"
   ]
  },
  {
   "cell_type": "code",
   "execution_count": 64,
   "metadata": {},
   "outputs": [
    {
     "name": "stdout",
     "output_type": "stream",
     "text": [
      "[[0.63063961 0.21766736]\n",
      " [0.3939889  0.14337857]]\n"
     ]
    }
   ],
   "source": [
    "#44. random.uniform()\n",
    "y = np.random.uniform(size=(2,2))\n",
    "print(y)"
   ]
  },
  {
   "cell_type": "code",
   "execution_count": 65,
   "metadata": {},
   "outputs": [
    {
     "name": "stdout",
     "output_type": "stream",
     "text": [
      "[1 2 3 4 5 6 7 8 9]\n"
     ]
    }
   ],
   "source": [
    "#45. ravel()\n",
    "a = np.array([[1,2,3],[4,5,6],[7,8,9]])\n",
    "print(a.ravel()) "
   ]
  },
  {
   "cell_type": "code",
   "execution_count": 66,
   "metadata": {},
   "outputs": [
    {
     "name": "stdout",
     "output_type": "stream",
     "text": [
      "[1 2 3 4 5 6 7 8 9]\n"
     ]
    }
   ],
   "source": [
    "#46. flatten()\n",
    "a = np.array([[1,2,3],[4,5,6],[7,8,9]])\n",
    "print(a.flatten())"
   ]
  },
  {
   "cell_type": "code",
   "execution_count": 67,
   "metadata": {},
   "outputs": [
    {
     "name": "stdout",
     "output_type": "stream",
     "text": [
      "[1 1 1 2 2 2 3 3 3 4 4 4 5 5 5]\n"
     ]
    }
   ],
   "source": [
    "#47. Repeat\n",
    "arr = np.array([1,2,3,4,5])\n",
    "print(np.repeat(arr,3))"
   ]
  },
  {
   "cell_type": "code",
   "execution_count": 68,
   "metadata": {},
   "outputs": [
    {
     "name": "stdout",
     "output_type": "stream",
     "text": [
      "[1 2 3 4 5 1 2 3 4 5 1 2 3 4 5]\n"
     ]
    }
   ],
   "source": [
    "#48. Tiles\n",
    "arr = np.array([1,2,3,4,5])\n",
    "print(np.tile(arr,3))"
   ]
  },
  {
   "cell_type": "code",
   "execution_count": 76,
   "metadata": {},
   "outputs": [
    {
     "name": "stdout",
     "output_type": "stream",
     "text": [
      "[1. 2. 3.]\n"
     ]
    }
   ],
   "source": [
    "#49. astype()\n",
    "l = np.array([1,2,3])\n",
    "print(l.astype(float))"
   ]
  },
  {
   "cell_type": "code",
   "execution_count": 88,
   "metadata": {},
   "outputs": [
    {
     "data": {
      "text/plain": [
       "288"
      ]
     },
     "execution_count": 88,
     "metadata": {},
     "output_type": "execute_result"
    }
   ],
   "source": [
    "arr = np.array([[4,1,8],[9,6,2],[2,5,4]])\n",
    "determinant = np.linalg.det(arr)\n",
    "int(determinant)"
   ]
  }
 ],
 "metadata": {
  "kernelspec": {
   "display_name": "Python 3",
   "language": "python",
   "name": "python3"
  },
  "language_info": {
   "codemirror_mode": {
    "name": "ipython",
    "version": 3
   },
   "file_extension": ".py",
   "mimetype": "text/x-python",
   "name": "python",
   "nbconvert_exporter": "python",
   "pygments_lexer": "ipython3",
   "version": "3.7.6"
  }
 },
 "nbformat": 4,
 "nbformat_minor": 4
}
